{
 "cells": [
  {
   "cell_type": "code",
   "execution_count": 2,
   "id": "f106aaef",
   "metadata": {},
   "outputs": [],
   "source": [
    "import numpy as np\n",
    "import pandas as pd\n",
    "from matplotlib import pyplot as plt\n",
    "import tensorflow as tf\n",
    "from PIL import Image\n",
    "import os \n",
    "from sklearn.model_selection import train_test_split"
   ]
  },
  {
   "cell_type": "code",
   "execution_count": 3,
   "id": "6bc7ffd3",
   "metadata": {},
   "outputs": [],
   "source": [
    "from keras.utils import to_categorical\n",
    "from tensorflow.keras.models import Sequential"
   ]
  },
  {
   "cell_type": "code",
   "execution_count": 55,
   "id": "e04be056",
   "metadata": {},
   "outputs": [],
   "source": [
    "data = []\n",
    "labels = []\n",
    "classes = 43\n",
    "cur_path = os.getcwd()\n",
    "for i in range(classes):\n",
    "    path = os.path.join('archive', 'Train', str(i))\n",
    "    images = os.listdir(path)\n",
    "    \n",
    "    for a in images:\n",
    "      try: \n",
    "        image = Image.open(path + '\\\\' + a)\n",
    "        image = image.resize((30, 30))\n",
    "        image = np.array(image)\n",
    "        data.append(image)\n",
    "        labels.append(i)\n",
    "      except : \n",
    "        print(\"Error loading image\")\n",
    "\n",
    "data = np.array(data)\n",
    "labels = np.array(labels)"
   ]
  },
  {
   "cell_type": "code",
   "execution_count": 56,
   "id": "37457c8d",
   "metadata": {},
   "outputs": [
    {
     "data": {
      "text/plain": [
       "(39209,)"
      ]
     },
     "execution_count": 56,
     "metadata": {},
     "output_type": "execute_result"
    }
   ],
   "source": [
    "labels.shape"
   ]
  },
  {
   "cell_type": "code",
   "execution_count": 57,
   "id": "194fd55f",
   "metadata": {},
   "outputs": [
    {
     "data": {
      "text/plain": [
       "(39209, 30, 30, 3)"
      ]
     },
     "execution_count": 57,
     "metadata": {},
     "output_type": "execute_result"
    }
   ],
   "source": [
    "data.shape"
   ]
  },
  {
   "cell_type": "code",
   "execution_count": 58,
   "id": "6def5a85",
   "metadata": {},
   "outputs": [],
   "source": [
    "x_train, x_test, y_train, y_test = train_test_split(data, labels, test_size=0.2, random_state = 42)"
   ]
  },
  {
   "cell_type": "code",
   "execution_count": 59,
   "id": "4f07a8ad",
   "metadata": {},
   "outputs": [
    {
     "name": "stdout",
     "output_type": "stream",
     "text": [
      "(31367, 30, 30, 3) (7842, 30, 30, 3) (31367,) (7842,)\n"
     ]
    }
   ],
   "source": [
    "print(x_train.shape, x_test.shape, y_train.shape, y_test.shape)\n"
   ]
  },
  {
   "cell_type": "code",
   "execution_count": 60,
   "id": "c6b1748d",
   "metadata": {},
   "outputs": [],
   "source": [
    "import cv2\n",
    "# converting the RGB to Gray scale \n",
    "def grayscale(img):\n",
    "    img = cv2.cvtColor(img, cv2.COLOR_BGR2GRAY)\n",
    "    return img\n",
    "#eqaulize the intensity of the image\n",
    "def equalize(img):\n",
    "    img = cv2.equalizeHist(img)\n",
    "    return img\n",
    "def preprocessing(img):\n",
    "    img = grayscale(img)\n",
    "    img = equalize(img)\n",
    "    img = img/255\n",
    "    return img"
   ]
  },
  {
   "cell_type": "code",
   "execution_count": 61,
   "id": "36b0883e",
   "metadata": {},
   "outputs": [],
   "source": [
    "x_train = np.array(list(map(preprocessing, x_train)))"
   ]
  },
  {
   "cell_type": "code",
   "execution_count": 62,
   "id": "d9991ebb",
   "metadata": {},
   "outputs": [
    {
     "data": {
      "text/plain": [
       "(31367, 30, 30)"
      ]
     },
     "execution_count": 62,
     "metadata": {},
     "output_type": "execute_result"
    }
   ],
   "source": [
    "x_train.shape"
   ]
  },
  {
   "cell_type": "code",
   "execution_count": 63,
   "id": "be7a469d",
   "metadata": {},
   "outputs": [],
   "source": [
    "x_test = np.array(list(map(preprocessing, x_test)))"
   ]
  },
  {
   "cell_type": "code",
   "execution_count": 64,
   "id": "68104ae9",
   "metadata": {},
   "outputs": [],
   "source": [
    "x_train = x_train.reshape(x_train.shape[0], x_train.shape[1], x_train.shape[2], 1)\n",
    "x_test = x_test.reshape(x_test.shape[0], x_test.shape[1], x_test.shape[2], 1)"
   ]
  },
  {
   "cell_type": "code",
   "execution_count": 65,
   "id": "c585d840",
   "metadata": {},
   "outputs": [],
   "source": [
    "from keras.preprocessing.image import ImageDataGenerator"
   ]
  },
  {
   "cell_type": "code",
   "execution_count": 66,
   "id": "88e003fe",
   "metadata": {},
   "outputs": [],
   "source": [
    "#applies data augemenation on the dataset \n",
    "dataGen = ImageDataGenerator(width_shift_range = 0.1,\n",
    "                            height_shift_range = 0.1,\n",
    "                            zoom_range = 0.2,\n",
    "                            shear_range = 0.1,\n",
    "                            rotation_range = 10)"
   ]
  },
  {
   "cell_type": "code",
   "execution_count": 67,
   "id": "2bc6c740",
   "metadata": {},
   "outputs": [],
   "source": [
    "dataGen.fit(x_train)"
   ]
  },
  {
   "cell_type": "code",
   "execution_count": 68,
   "id": "e28ce1db",
   "metadata": {},
   "outputs": [],
   "source": [
    "batches = dataGen.flow(x_train, y_train, batch_size = 20)\n",
    "x_batch, y_batch = next(batches)"
   ]
  },
  {
   "cell_type": "code",
   "execution_count": 69,
   "id": "8a4aadce",
   "metadata": {},
   "outputs": [],
   "source": [
    "y_train = to_categorical(y_train, 43)\n",
    "y_test = to_categorical(y_test, 43)"
   ]
  },
  {
   "cell_type": "code",
   "execution_count": 70,
   "id": "f8c8c6e9",
   "metadata": {},
   "outputs": [],
   "source": [
    "imageDimension = (30,30,3)\n",
    "def myModel():\n",
    "    model = Sequential()\n",
    "    model.add(tf.keras.layers.Conv2D(60, (5,5), input_shape =(imageDimension[0], imageDimension[1], 1), activation = 'relu'))\n",
    "    model.add((tf.keras.layers.Conv2D(60, (5,5), activation = 'relu')))\n",
    "    model.add(tf.keras.layers.MaxPooling2D(pool_size= (2,2)))\n",
    "    \n",
    "    model.add((tf.keras.layers.Conv2D(30, (3,3), activation = 'relu')))\n",
    "    model.add((tf.keras.layers.Conv2D(30, (3,3), activation= 'relu')))\n",
    "    model.add(tf.keras.layers.MaxPooling2D(pool_size = (2,2)))\n",
    "    model.add(tf.keras.layers.Dropout(0.5))\n",
    "              \n",
    "    model.add(tf.keras.layers.Flatten())\n",
    "    model.add(tf.keras.layers.Dense(500, activation= 'relu'))\n",
    "    model.add(tf.keras.layers.Dropout(0.5))\n",
    "    model.add(tf.keras.layers.Dense(43, activation = 'softmax'))\n",
    "    model.compile(tf.keras.optimizers.Adam(learning_rate = 0.001), loss = tf.keras.losses.categorical_crossentropy, metrics = ['accuracy'])\n",
    "    return model\n",
    "        "
   ]
  },
  {
   "cell_type": "code",
   "execution_count": 71,
   "id": "934b6907",
   "metadata": {
    "scrolled": true
   },
   "outputs": [
    {
     "name": "stdout",
     "output_type": "stream",
     "text": [
      "Model: \"sequential\"\n",
      "_________________________________________________________________\n",
      " Layer (type)                Output Shape              Param #   \n",
      "=================================================================\n",
      " conv2d (Conv2D)             (None, 26, 26, 60)        1560      \n",
      "                                                                 \n",
      " conv2d_1 (Conv2D)           (None, 22, 22, 60)        90060     \n",
      "                                                                 \n",
      " max_pooling2d (MaxPooling2  (None, 11, 11, 60)        0         \n",
      " D)                                                              \n",
      "                                                                 \n",
      " conv2d_2 (Conv2D)           (None, 9, 9, 30)          16230     \n",
      "                                                                 \n",
      " conv2d_3 (Conv2D)           (None, 7, 7, 30)          8130      \n",
      "                                                                 \n",
      " max_pooling2d_1 (MaxPoolin  (None, 3, 3, 30)          0         \n",
      " g2D)                                                            \n",
      "                                                                 \n",
      " dropout (Dropout)           (None, 3, 3, 30)          0         \n",
      "                                                                 \n",
      " flatten (Flatten)           (None, 270)               0         \n",
      "                                                                 \n",
      " dense (Dense)               (None, 500)               135500    \n",
      "                                                                 \n",
      " dropout_1 (Dropout)         (None, 500)               0         \n",
      "                                                                 \n",
      " dense_1 (Dense)             (None, 43)                21543     \n",
      "                                                                 \n",
      "=================================================================\n",
      "Total params: 273023 (1.04 MB)\n",
      "Trainable params: 273023 (1.04 MB)\n",
      "Non-trainable params: 0 (0.00 Byte)\n",
      "_________________________________________________________________\n",
      "None\n",
      "Epoch 1/30\n"
     ]
    },
    {
     "name": "stderr",
     "output_type": "stream",
     "text": [
      "C:\\Users\\Hardik Chaudhary\\AppData\\Local\\Temp\\ipykernel_3792\\1881780374.py:3: UserWarning: `Model.fit_generator` is deprecated and will be removed in a future version. Please use `Model.fit`, which supports generators.\n",
      "  history = mymodel.fit_generator(dataGen.flow(x_train, y_train, batch_size = 32), steps_per_epoch = len(x_train)//32, epochs = 30, validation_data = (x_train, y_train), shuffle = 1)\n"
     ]
    },
    {
     "name": "stdout",
     "output_type": "stream",
     "text": [
      "WARNING:tensorflow:From c:\\users\\hardik chaudhary\\appdata\\local\\programs\\python\\python39\\lib\\site-packages\\keras\\src\\utils\\tf_utils.py:492: The name tf.ragged.RaggedTensorValue is deprecated. Please use tf.compat.v1.ragged.RaggedTensorValue instead.\n",
      "\n",
      "WARNING:tensorflow:From c:\\users\\hardik chaudhary\\appdata\\local\\programs\\python\\python39\\lib\\site-packages\\keras\\src\\engine\\base_layer_utils.py:384: The name tf.executing_eagerly_outside_functions is deprecated. Please use tf.compat.v1.executing_eagerly_outside_functions instead.\n",
      "\n",
      "980/980 [==============================] - 68s 68ms/step - loss: 2.2264 - accuracy: 0.3625 - val_loss: 0.5487 - val_accuracy: 0.8263\n",
      "Epoch 2/30\n",
      "980/980 [==============================] - 70s 72ms/step - loss: 0.9511 - accuracy: 0.7038 - val_loss: 0.2229 - val_accuracy: 0.9375\n",
      "Epoch 3/30\n",
      "980/980 [==============================] - 73s 75ms/step - loss: 0.6402 - accuracy: 0.7986 - val_loss: 0.1331 - val_accuracy: 0.9629\n",
      "Epoch 4/30\n",
      "980/980 [==============================] - 82s 84ms/step - loss: 0.4995 - accuracy: 0.8442 - val_loss: 0.0936 - val_accuracy: 0.9733\n",
      "Epoch 5/30\n",
      "980/980 [==============================] - 86s 88ms/step - loss: 0.4275 - accuracy: 0.8663 - val_loss: 0.0695 - val_accuracy: 0.9788\n",
      "Epoch 6/30\n",
      "980/980 [==============================] - 88s 90ms/step - loss: 0.3773 - accuracy: 0.8842 - val_loss: 0.0769 - val_accuracy: 0.9750\n",
      "Epoch 7/30\n",
      "980/980 [==============================] - 89s 91ms/step - loss: 0.3413 - accuracy: 0.8938 - val_loss: 0.0662 - val_accuracy: 0.9793\n",
      "Epoch 8/30\n",
      "980/980 [==============================] - 88s 90ms/step - loss: 0.3094 - accuracy: 0.9035 - val_loss: 0.0598 - val_accuracy: 0.9818\n",
      "Epoch 9/30\n",
      "980/980 [==============================] - 91s 93ms/step - loss: 0.2823 - accuracy: 0.9135 - val_loss: 0.0415 - val_accuracy: 0.9885\n",
      "Epoch 10/30\n",
      "980/980 [==============================] - 92s 94ms/step - loss: 0.2750 - accuracy: 0.9174 - val_loss: 0.0399 - val_accuracy: 0.9889\n",
      "Epoch 11/30\n",
      "980/980 [==============================] - 91s 92ms/step - loss: 0.2530 - accuracy: 0.9217 - val_loss: 0.0331 - val_accuracy: 0.9913\n",
      "Epoch 12/30\n",
      "980/980 [==============================] - 91s 93ms/step - loss: 0.2439 - accuracy: 0.9255 - val_loss: 0.0529 - val_accuracy: 0.9832\n",
      "Epoch 13/30\n",
      "980/980 [==============================] - 80s 82ms/step - loss: 0.2317 - accuracy: 0.9280 - val_loss: 0.0239 - val_accuracy: 0.9932\n",
      "Epoch 14/30\n",
      "980/980 [==============================] - 92s 93ms/step - loss: 0.2211 - accuracy: 0.9317 - val_loss: 0.0360 - val_accuracy: 0.9885\n",
      "Epoch 15/30\n",
      "980/980 [==============================] - 92s 93ms/step - loss: 0.2110 - accuracy: 0.9378 - val_loss: 0.0234 - val_accuracy: 0.9930\n",
      "Epoch 16/30\n",
      "980/980 [==============================] - 92s 94ms/step - loss: 0.2086 - accuracy: 0.9382 - val_loss: 0.0217 - val_accuracy: 0.9944\n",
      "Epoch 17/30\n",
      "980/980 [==============================] - 92s 94ms/step - loss: 0.2004 - accuracy: 0.9393 - val_loss: 0.0422 - val_accuracy: 0.9877\n",
      "Epoch 18/30\n",
      "980/980 [==============================] - 93s 94ms/step - loss: 0.1949 - accuracy: 0.9400 - val_loss: 0.0305 - val_accuracy: 0.9916\n",
      "Epoch 19/30\n",
      "980/980 [==============================] - 96s 98ms/step - loss: 0.1996 - accuracy: 0.9403 - val_loss: 0.0393 - val_accuracy: 0.9885\n",
      "Epoch 20/30\n",
      "980/980 [==============================] - 94s 96ms/step - loss: 0.1894 - accuracy: 0.9437 - val_loss: 0.0195 - val_accuracy: 0.9939\n",
      "Epoch 21/30\n",
      "980/980 [==============================] - 93s 95ms/step - loss: 0.1807 - accuracy: 0.9455 - val_loss: 0.0262 - val_accuracy: 0.9923\n",
      "Epoch 22/30\n",
      "980/980 [==============================] - 95s 97ms/step - loss: 0.1768 - accuracy: 0.9469 - val_loss: 0.0189 - val_accuracy: 0.9951\n",
      "Epoch 23/30\n",
      "980/980 [==============================] - 94s 96ms/step - loss: 0.1861 - accuracy: 0.9447 - val_loss: 0.0222 - val_accuracy: 0.9936\n",
      "Epoch 24/30\n",
      "980/980 [==============================] - 99s 101ms/step - loss: 0.1711 - accuracy: 0.9499 - val_loss: 0.0161 - val_accuracy: 0.9957\n",
      "Epoch 25/30\n",
      "980/980 [==============================] - 94s 96ms/step - loss: 0.1686 - accuracy: 0.9502 - val_loss: 0.0138 - val_accuracy: 0.9963\n",
      "Epoch 26/30\n",
      "980/980 [==============================] - 93s 95ms/step - loss: 0.1562 - accuracy: 0.9534 - val_loss: 0.0209 - val_accuracy: 0.9943\n",
      "Epoch 27/30\n",
      "980/980 [==============================] - 97s 99ms/step - loss: 0.1623 - accuracy: 0.9522 - val_loss: 0.0180 - val_accuracy: 0.9951\n",
      "Epoch 28/30\n",
      "980/980 [==============================] - 94s 96ms/step - loss: 0.1685 - accuracy: 0.9505 - val_loss: 0.0196 - val_accuracy: 0.9947\n",
      "Epoch 29/30\n",
      "980/980 [==============================] - 106s 109ms/step - loss: 0.1536 - accuracy: 0.9553 - val_loss: 0.0145 - val_accuracy: 0.9961\n",
      "Epoch 30/30\n",
      "980/980 [==============================] - 111s 113ms/step - loss: 0.1554 - accuracy: 0.9540 - val_loss: 0.0220 - val_accuracy: 0.9931\n"
     ]
    }
   ],
   "source": [
    "mymodel = myModel()\n",
    "print(mymodel.summary())\n",
    "history = mymodel.fit_generator(dataGen.flow(x_train, y_train, batch_size = 32), steps_per_epoch = len(x_train)//32, epochs = 30, validation_data = (x_train, y_train), shuffle = 1)"
   ]
  },
  {
   "cell_type": "code",
   "execution_count": 72,
   "id": "e7414e4d",
   "metadata": {},
   "outputs": [
    {
     "data": {
      "text/plain": [
       "<matplotlib.legend.Legend at 0x1b8b625b490>"
      ]
     },
     "execution_count": 72,
     "metadata": {},
     "output_type": "execute_result"
    },
    {
     "data": {
      "image/png": "[encoded data removed]",
      "text/plain": [
       "<Figure size 640x480 with 1 Axes>"
      ]
     },
     "metadata": {},
     "output_type": "display_data"
    },
    {
     "data": {
      "image/png": "[encoded data removed]",
      "text/plain": [
       "<Figure size 640x480 with 1 Axes>"
      ]
     },
     "metadata": {},
     "output_type": "display_data"
    }
   ],
   "source": [
    "plt.figure(0)\n",
    "plt.plot(history.history['accuracy'], label = 'training accuracy')\n",
    "plt.plot(history.history['val_accuracy'], label = 'val accuracy')\n",
    "plt.title('Accuracy')\n",
    "plt.xlabel('epochs')\n",
    "plt.ylabel('accuracy')\n",
    "plt.legend()\n",
    "\n",
    "plt.figure(1)\n",
    "plt.plot(history.history['loss'], label = 'training loss')\n",
    "plt.plot(history.history['val_loss'], label = 'val loss')\n",
    "plt.title('loss')\n",
    "plt.xlabel(\"epochs\")\n",
    "plt.ylabel('losses')\n",
    "plt.legend()"
   ]
  },
  {
   "cell_type": "code",
   "execution_count": 76,
   "id": "7699e3da",
   "metadata": {},
   "outputs": [],
   "source": [
    "from sklearn.metrics import accuracy_score \n",
    "import pandas as pd\n",
    "y_test = pd.read_csv(\"archive\\Test.csv\")"
   ]
  },
  {
   "cell_type": "code",
   "execution_count": 77,
   "id": "dcc8a96c",
   "metadata": {},
   "outputs": [],
   "source": [
    "labels = y_test[\"ClassId\"].values\n",
    "imgs = y_test[\"Path\"].values"
   ]
  },
  {
   "cell_type": "code",
   "execution_count": 82,
   "id": "9a1089ac",
   "metadata": {},
   "outputs": [],
   "source": [
    "test_data = []\n",
    "path = os.path.join('archive', 'Test')\n",
    "imgs = os.listdir(path)\n",
    "for img in imgs:\n",
    "    image = Image.open(path1 + '\\\\' + img)\n",
    "    image = image.resize((30,30))\n",
    "    test_data.append(np.array(image))\n",
    "    \n",
    "X_test = np.array(test_data)"
   ]
  },
  {
   "cell_type": "code",
   "execution_count": 83,
   "id": "c9dd51e5",
   "metadata": {},
   "outputs": [],
   "source": [
    "def grayscale(img):\n",
    "    img = cv2.cvtColor(img, cv2.COLOR_BGR2GRAY)\n",
    "    return img"
   ]
  },
  {
   "cell_type": "code",
   "execution_count": 84,
   "id": "e272449d",
   "metadata": {},
   "outputs": [],
   "source": [
    "X_test = np.array(list(map(grayscale, X_test)))\n",
    "X_test = X_test.reshape(X_test.shape[0], X_test.shape[1], X_test.shape[2], 1)"
   ]
  },
  {
   "cell_type": "code",
   "execution_count": 85,
   "id": "5090fdea",
   "metadata": {},
   "outputs": [
    {
     "name": "stdout",
     "output_type": "stream",
     "text": [
      "395/395 [==============================] - 14s 35ms/step\n"
     ]
    },
    {
     "data": {
      "text/plain": [
       "0.943784639746635"
      ]
     },
     "execution_count": 85,
     "metadata": {},
     "output_type": "execute_result"
    }
   ],
   "source": [
    "pred = mymodel.predict(X_test)\n",
    "pred = np.argmax(pred, axis = 1)\n",
    "from sklearn.metrics import accuracy_score\n",
    "accuracy_score(labels, pred)"
   ]
  },
  {
   "cell_type": "code",
   "execution_count": 86,
   "id": "4e2a5369",
   "metadata": {
    "scrolled": true
   },
   "outputs": [
    {
     "name": "stderr",
     "output_type": "stream",
     "text": [
      "c:\\users\\hardik chaudhary\\appdata\\local\\programs\\python\\python39\\lib\\site-packages\\keras\\src\\engine\\training.py:3103: UserWarning: You are saving your model as an HDF5 file via `model.save()`. This file format is considered legacy. We recommend using instead the native Keras format, e.g. `model.save('my_model.keras')`.\n",
      "  saving_api.save_model(\n"
     ]
    }
   ],
   "source": [
    "mymodel.save('traffic_classifer_final.h5')"
   ]
  }
 ],
 "metadata": {
  "kernelspec": {
   "display_name": "Python 3 (ipykernel)",
   "language": "python",
   "name": "python3"
  },
  "language_info": {
   "codemirror_mode": {
    "name": "ipython",
    "version": 3
   },
   "file_extension": ".py",
   "mimetype": "text/x-python",
   "name": "python",
   "nbconvert_exporter": "python",
   "pygments_lexer": "ipython3",
   "version": "3.9.0"
  }
 },
 "nbformat": 4,
 "nbformat_minor": 5
}
